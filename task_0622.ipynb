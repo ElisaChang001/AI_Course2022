{
  "nbformat": 4,
  "nbformat_minor": 0,
  "metadata": {
    "colab": {
      "name": "task_0622.ipynb",
      "provenance": [],
      "authorship_tag": "ABX9TyMz6bVaKKEHeQIV3UFwoY0P",
      "include_colab_link": true
    },
    "kernelspec": {
      "name": "python3",
      "display_name": "Python 3"
    },
    "language_info": {
      "name": "python"
    }
  },
  "cells": [
    {
      "cell_type": "markdown",
      "metadata": {
        "id": "view-in-github",
        "colab_type": "text"
      },
      "source": [
        "<a href=\"https://colab.research.google.com/github/HelloMina001/AI_Course2022/blob/main/task_0622.ipynb\" target=\"_parent\"><img src=\"https://colab.research.google.com/assets/colab-badge.svg\" alt=\"Open In Colab\"/></a>"
      ]
    },
    {
      "cell_type": "code",
      "execution_count": 9,
      "metadata": {
        "id": "5PFQR6EXhMr9",
        "colab": {
          "base_uri": "https://localhost:8080/"
        },
        "outputId": "ff9164bf-66f1-436b-ddf2-5d46f612f15e"
      },
      "outputs": [
        {
          "output_type": "stream",
          "name": "stdout",
          "text": [
            "[41.51347826 -0.34088269]\n",
            "65.32391638894836\n",
            "預測新蛋糕店的單月銷量\n",
            "[442.96160353]\n",
            "模型績效\n",
            "印出模型績效\n",
            "417.3006119994701\n",
            "0.945235852681711\n",
            "0.929588953447914\n",
            "印出 p-value\n",
            "[0.00051435 0.00844837]\n"
          ]
        }
      ],
      "source": [
        "import numpy as np\n",
        "from sklearn.linear_model import LinearRegression\n",
        "from sklearn.feature_selection import f_regression\n",
        "\n",
        "X = np.array([\n",
        "    [10, 80], [8, 0], [8, 200], [5, 200], [7, 300], [8, 230], [7, 40], [9, 0], [6, 330], [9, 180]\n",
        "])\n",
        "y = np.array([469, 366, 371, 208, 246, 297, 363, 436, 198, 364])\n",
        "\n",
        "lm = LinearRegression()\n",
        "lm.fit(X, y)\n",
        "\n",
        "# 印出係數\n",
        "print(lm.coef_)\n",
        "\n",
        "# 印出截距\n",
        "print(lm.intercept_ )\n",
        "\n",
        "# 新蛋糕店資料\n",
        "to_be_predicted = np.array([\n",
        "    [10, 110]\n",
        "])\n",
        "predicted_sales = lm.predict(to_be_predicted)\n",
        "\n",
        "print('預測新蛋糕店的單月銷量')\n",
        "print(predicted_sales)\n",
        "\n",
        "print('模型績效')\n",
        "mse = np.mean((lm.predict(X) - y) ** 2)\n",
        "r_squared = lm.score(X, y)\n",
        "adj_r_squared = r_squared - (1 - r_squared) * (X.shape[1] / (X.shape[0] - X.shape[1] - 1))\n",
        "\n",
        "\n",
        "\n",
        "print('印出模型績效')\n",
        "print(mse)\n",
        "print(r_squared)\n",
        "print(adj_r_squared)\n",
        "\n",
        "\n",
        "print('印出 p-value')\n",
        "print(f_regression(X, y)[1])"
      ]
    },
    {
      "cell_type": "markdown",
      "source": [
        "download dataset:https://www.kaggle.com/datasets/brendan45774/test-file?resource=download\n"
      ],
      "metadata": {
        "id": "vfBex2yc30q3"
      }
    },
    {
      "cell_type": "code",
      "source": [
        "# ｓｕｃｃｅｓｓ　ｖｅｒｓｉｏｎ　１\n",
        "import pandas as pd\n",
        "import numpy as np\n",
        "from sklearn import preprocessing, linear_model\n",
        "from sklearn.feature_selection import f_regression\n",
        "\n",
        "csv_path='/content/TitanicDataset.csv'\n",
        "\n",
        "import os\n",
        "cwd = os.getcwd()\n",
        "print(cwd)\n",
        "titanic_train=pd.read_csv(csv_path)  \n",
        "print(titanic_train.head())\n",
        "print(titanic_train.columns)\n",
        "\n",
        "# # 將 Age 遺漏值以 median 填補\n",
        "# age_median = np.nanmedian(titanic_train[\"Age\"])\n",
        "# new_Age = np.where(titanic_train[\"Age\"].isnull(), age_median, titanic_train[\"Age\"])\n",
        "# titanic_train[\"Age\"] = new_Age\n",
        "# titanic_train\n",
        "\n",
        "# # 創造 dummy variables\n",
        "# label_encoder = preprocessing.LabelEncoder()\n",
        "# encoded_Sex = label_encoder.fit_transform(titanic_train[\"Sex\"])\n",
        "\n",
        "\n",
        "# # 建立 train_X\n",
        "# train_X = pd.DataFrame([titanic_train[\"Pclass\"],encoded_Sex,titanic_train[\"Age\"]]).T\n",
        "\n",
        "# # 建立模型\n",
        "# logistic_regr = linear_model.LogisticRegression()\n",
        "# logistic_regr.fit(train_X, titanic_train[\"Survived\"])\n",
        "\n",
        "# print('# 印出 p-value')\n",
        "# print(f_regression(train_X, titanic_train[\"Survived\"])[1])\n",
        "\n",
        "# # 計算準確率\n",
        "# survived_predictions = logistic_regr.predict(train_X)\n",
        "# accuracy = logistic_regr.score(train_X, titanic_train[\"Survived\"])\n",
        "# print(accuracy)"
      ],
      "metadata": {
        "colab": {
          "base_uri": "https://localhost:8080/"
        },
        "id": "Rg5ppeE9q3F1",
        "outputId": "16e85c83-ba0a-4ad8-c603-314ccefc741b"
      },
      "execution_count": 17,
      "outputs": [
        {
          "output_type": "stream",
          "name": "stdout",
          "text": [
            "/content\n",
            "   PassengerId  Survived  Pclass  \\\n",
            "0          892         0       3   \n",
            "1          893         1       3   \n",
            "2          894         0       2   \n",
            "3          895         0       3   \n",
            "4          896         1       3   \n",
            "\n",
            "                                           Name     Sex   Age  SibSp  Parch  \\\n",
            "0                              Kelly, Mr. James    male  34.5      0      0   \n",
            "1              Wilkes, Mrs. James (Ellen Needs)  female  47.0      1      0   \n",
            "2                     Myles, Mr. Thomas Francis    male  62.0      0      0   \n",
            "3                              Wirz, Mr. Albert    male  27.0      0      0   \n",
            "4  Hirvonen, Mrs. Alexander (Helga E Lindqvist)  female  22.0      1      1   \n",
            "\n",
            "    Ticket     Fare Cabin Embarked  \n",
            "0   330911   7.8292   NaN        Q  \n",
            "1   363272   7.0000   NaN        S  \n",
            "2   240276   9.6875   NaN        Q  \n",
            "3   315154   8.6625   NaN        S  \n",
            "4  3101298  12.2875   NaN        S  \n",
            "Index(['PassengerId', 'Survived', 'Pclass', 'Name', 'Sex', 'Age', 'SibSp',\n",
            "       'Parch', 'Ticket', 'Fare', 'Cabin', 'Embarked'],\n",
            "      dtype='object')\n"
          ]
        }
      ]
    },
    {
      "cell_type": "markdown",
      "source": [
        "# 新增區段"
      ],
      "metadata": {
        "id": "e1kBD39Cvo0T"
      }
    },
    {
      "cell_type": "markdown",
      "source": [
        "There are many things for a greater chance to survive<br>\n",
        "gander<br>\n",
        "age<br>\n",
        "PClass<br>\n",
        "ravel with 1 or 3 people<br>"
      ],
      "metadata": {
        "id": "zp9u9Ff8GXlZ"
      }
    },
    {
      "cell_type": "code",
      "source": [
        "# ｖｅｒｓｉｏｎ２　\n",
        "import pandas as pd\n",
        "import numpy as np\n",
        "import seaborn as sns\n",
        "\n",
        "import matplotlib.pyplot as plt\n",
        "%matplotlib inline\n",
        "\n",
        "path_1='/content/train.csv'\n",
        "path_2='/content/test.csv'\n",
        "path_3='/content/gender_submission.csv'\n",
        "df_train = pd.read_csv(path_1)\n",
        "df_test = pd.read_csv(path_2)\n",
        "df_gender = pd.read_csv(path_3)\n",
        "df_train.head()\n",
        "df_test.head()\n",
        "df_gender.head()\n",
        "\n",
        "print ('train',len(df_train)) #891\n",
        "print ('test',len(df_test))  #418\n",
        "print ('gender',len(df_gender)) #418\n",
        "\n",
        "print('Train columns:', df_train.columns.tolist())\n",
        "print('Test columns:', df_test.columns.tolist())\n",
        "print('gender columns:', df_gender.columns.tolist())\n",
        "\n",
        "\n",
        "df_test_1=df_test.merge(df_gender, left_on='PassengerId', right_on='PassengerId')\n",
        "print(len(df_test_1))\n",
        "\n",
        "print('df_test_1:', df_test_1.columns.tolist())"
      ],
      "metadata": {
        "colab": {
          "base_uri": "https://localhost:8080/"
        },
        "id": "X7Cnp6kVu5Zi",
        "outputId": "f0a9fea1-e3f4-41f8-acd9-b7b0164455c0"
      },
      "execution_count": 69,
      "outputs": [
        {
          "output_type": "stream",
          "name": "stdout",
          "text": [
            "train 891\n",
            "test 418\n",
            "gender 418\n",
            "Train columns: ['PassengerId', 'Survived', 'Pclass', 'Name', 'Sex', 'Age', 'SibSp', 'Parch', 'Ticket', 'Fare', 'Cabin', 'Embarked']\n",
            "Test columns: ['PassengerId', 'Pclass', 'Name', 'Sex', 'Age', 'SibSp', 'Parch', 'Ticket', 'Fare', 'Cabin', 'Embarked']\n",
            "gender columns: ['PassengerId', 'Survived']\n",
            "418\n",
            "df_test_1: ['PassengerId', 'Pclass', 'Name', 'Sex', 'Age', 'SibSp', 'Parch', 'Ticket', 'Fare', 'Cabin', 'Embarked', 'Survived']\n"
          ]
        }
      ]
    },
    {
      "cell_type": "code",
      "source": [
        "\n",
        "#age \n",
        "print('CountNaN_age:',df_train[\"Age\"].isna().sum() ) #177\n",
        "\n",
        "age_median = np.nanmedian(df_train[\"Age\"])\n",
        "new_Age = np.where(df_train[\"Age\"].isnull(), age_median, df_train[\"Age\"])\n",
        "df_train[\"Age\"] = new_Age\n",
        "print('CountNaN_age:',df_train[\"Age\"].isna().sum() )  #0\n"
      ],
      "metadata": {
        "colab": {
          "base_uri": "https://localhost:8080/"
        },
        "id": "IKeGkhyaVhka",
        "outputId": "c44dd520-def2-4b95-e0e4-7d25fe0b16b2"
      },
      "execution_count": 73,
      "outputs": [
        {
          "output_type": "stream",
          "name": "stdout",
          "text": [
            "CountNaN_age: 0\n",
            "CountNaN_age: 0\n"
          ]
        }
      ]
    },
    {
      "cell_type": "code",
      "source": [
        "#pclass\n",
        "plt.rc('xtick', labelsize=14) \n",
        "plt.rc('ytick', labelsize=14)\n",
        "\n",
        "plt.figure()\n",
        "fig = df_train.groupby('Survived')['Pclass'].plot.hist(histtype= 'bar', alpha = 0.8)\n",
        "plt.legend(('Died','Survived'), fontsize = 12)\n",
        "plt.xlabel('Pclass', fontsize = 18)\n",
        "plt.show()\n",
        "\n"
      ],
      "metadata": {
        "id": "3EsR1llp2ugZ"
      },
      "execution_count": null,
      "outputs": []
    },
    {
      "cell_type": "code",
      "source": [
        "\n",
        "# 建立 train_X\n",
        "train_X = pd.DataFrame([df_train[\"Pclass\"],df_train[\"Age\"]]).T\n",
        "df_test_2=df_test_1[[\"Pclass\",\"Age\",'Survived']]\n",
        "df_test_3=df_test_1[[\"Pclass\",\"Age\"]]\n",
        "\n",
        "# 建立模型\n",
        "print(len(train_X)) #891\n",
        "print(len(df_train[\"Survived\"])) #891\n",
        "\n",
        "logistic_regr = linear_model.LogisticRegression()\n",
        "logistic_regr.fit(train_X, df_train[\"Survived\"])\n",
        "\n",
        "\n",
        "print(train_X.columns.tolist())\n",
        "print(df_test_3.columns.tolist())\n",
        "print(train_X.shape)\n",
        "print(df_test_3.shape)"
      ],
      "metadata": {
        "colab": {
          "base_uri": "https://localhost:8080/"
        },
        "id": "504MxiJhX2Yg",
        "outputId": "d71ba567-95e4-4bc8-c207-73f4b3c961f8"
      },
      "execution_count": 83,
      "outputs": [
        {
          "output_type": "stream",
          "name": "stdout",
          "text": [
            "891\n",
            "891\n",
            "['Pclass', 'Age']\n",
            "['Pclass', 'Age']\n",
            "(891, 2)\n",
            "(418, 2)\n"
          ]
        }
      ]
    },
    {
      "cell_type": "code",
      "source": [
        "df_test_4 = df_test_3.dropna()\n",
        "to_be_predicted = df_test_4\n",
        "df_test_5=df_test_2.dropna()\n",
        "print(len(df_test_5))  #322\n",
        "\n",
        "df_test_6=df_test_5[[\"Pclass\",\"Age\"]]\n",
        "df_test_6\n",
        "\n",
        "to_be_predicted=df_test_6\n",
        "predicted_sales = logistic_regr.predict(to_be_predicted)\n",
        "print(predicted_sales[0])\n",
        "print(df_test_5.head())\n"
      ],
      "metadata": {
        "colab": {
          "base_uri": "https://localhost:8080/"
        },
        "id": "XAGckztHX6C0",
        "outputId": "4803cd26-64ad-42d0-9c7d-befb828a4a6d"
      },
      "execution_count": 109,
      "outputs": [
        {
          "output_type": "stream",
          "name": "stdout",
          "text": [
            "332\n",
            "0\n",
            "   Pclass   Age  Survived\n",
            "0       3  34.5         0\n",
            "1       3  47.0         1\n",
            "2       2  62.0         0\n",
            "3       3  27.0         0\n",
            "4       3  22.0         1\n"
          ]
        }
      ]
    },
    {
      "cell_type": "code",
      "source": [
        ""
      ],
      "metadata": {
        "id": "nKzUR0ePcbio"
      },
      "execution_count": null,
      "outputs": []
    }
  ]
}