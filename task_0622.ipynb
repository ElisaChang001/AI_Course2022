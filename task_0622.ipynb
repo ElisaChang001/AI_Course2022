{
  "nbformat": 4,
  "nbformat_minor": 0,
  "metadata": {
    "colab": {
      "name": "task_0622.ipynb",
      "provenance": [],
      "authorship_tag": "ABX9TyOtw2F3WSyhZBqt1h/iQiFy",
      "include_colab_link": true
    },
    "kernelspec": {
      "name": "python3",
      "display_name": "Python 3"
    },
    "language_info": {
      "name": "python"
    }
  },
  "cells": [
    {
      "cell_type": "markdown",
      "metadata": {
        "id": "view-in-github",
        "colab_type": "text"
      },
      "source": [
        "<a href=\"https://colab.research.google.com/github/HelloMina001/AI_Course2022/blob/main/task_0622.ipynb\" target=\"_parent\"><img src=\"https://colab.research.google.com/assets/colab-badge.svg\" alt=\"Open In Colab\"/></a>"
      ]
    },
    {
      "cell_type": "markdown",
      "source": [
        "download dataset:https://www.kaggle.com/datasets/brendan45774/test-file?resource=download\n"
      ],
      "metadata": {
        "id": "vfBex2yc30q3"
      }
    },
    {
      "cell_type": "markdown",
      "source": [
        "There are many things for a greater chance to survive<br>\n",
        "age<br>\n",
        "PClass<br>"
      ],
      "metadata": {
        "id": "zp9u9Ff8GXlZ"
      }
    },
    {
      "cell_type": "code",
      "source": [
        "# ｖｅｒｓｉｏｎ２　\n",
        "import pandas as pd\n",
        "import numpy as np\n",
        "import seaborn as sns\n",
        "\n",
        "import matplotlib.pyplot as plt\n",
        "%matplotlib inline\n",
        "\n",
        "path_1='/content/train.csv'\n",
        "path_2='/content/test.csv'\n",
        "path_3='/content/gender_submission.csv'\n",
        "df_train = pd.read_csv(path_1)\n",
        "df_test = pd.read_csv(path_2)\n",
        "df_gender = pd.read_csv(path_3)\n",
        "df_train.head()\n",
        "df_test.head()\n",
        "df_gender.head()\n",
        "\n",
        "print ('train',len(df_train)) #891\n",
        "print ('test',len(df_test))  #418\n",
        "print ('gender',len(df_gender)) #418\n",
        "\n",
        "print('Train columns:', df_train.columns.tolist())\n",
        "print('Test columns:', df_test.columns.tolist())\n",
        "print('gender columns:', df_gender.columns.tolist())\n",
        "\n",
        "\n",
        "df_test_1=df_test.merge(df_gender, left_on='PassengerId', right_on='PassengerId')\n",
        "print(len(df_test_1))\n",
        "\n",
        "print('df_test_1:', df_test_1.columns.tolist())"
      ],
      "metadata": {
        "colab": {
          "base_uri": "https://localhost:8080/"
        },
        "id": "X7Cnp6kVu5Zi",
        "outputId": "f0a9fea1-e3f4-41f8-acd9-b7b0164455c0"
      },
      "execution_count": 69,
      "outputs": [
        {
          "output_type": "stream",
          "name": "stdout",
          "text": [
            "train 891\n",
            "test 418\n",
            "gender 418\n",
            "Train columns: ['PassengerId', 'Survived', 'Pclass', 'Name', 'Sex', 'Age', 'SibSp', 'Parch', 'Ticket', 'Fare', 'Cabin', 'Embarked']\n",
            "Test columns: ['PassengerId', 'Pclass', 'Name', 'Sex', 'Age', 'SibSp', 'Parch', 'Ticket', 'Fare', 'Cabin', 'Embarked']\n",
            "gender columns: ['PassengerId', 'Survived']\n",
            "418\n",
            "df_test_1: ['PassengerId', 'Pclass', 'Name', 'Sex', 'Age', 'SibSp', 'Parch', 'Ticket', 'Fare', 'Cabin', 'Embarked', 'Survived']\n"
          ]
        }
      ]
    },
    {
      "cell_type": "code",
      "source": [
        "\n",
        "#age \n",
        "print('CountNaN_age:',df_train[\"Age\"].isna().sum() ) #177\n",
        "\n",
        "age_median = np.nanmedian(df_train[\"Age\"])\n",
        "new_Age = np.where(df_train[\"Age\"].isnull(), age_median, df_train[\"Age\"])\n",
        "df_train[\"Age\"] = new_Age\n",
        "print('CountNaN_age:',df_train[\"Age\"].isna().sum() )  #0\n"
      ],
      "metadata": {
        "colab": {
          "base_uri": "https://localhost:8080/"
        },
        "id": "IKeGkhyaVhka",
        "outputId": "c44dd520-def2-4b95-e0e4-7d25fe0b16b2"
      },
      "execution_count": 73,
      "outputs": [
        {
          "output_type": "stream",
          "name": "stdout",
          "text": [
            "CountNaN_age: 0\n",
            "CountNaN_age: 0\n"
          ]
        }
      ]
    },
    {
      "cell_type": "code",
      "source": [
        "#pclass\n",
        "plt.rc('xtick', labelsize=14) \n",
        "plt.rc('ytick', labelsize=14)\n",
        "\n",
        "plt.figure()\n",
        "fig = df_train.groupby('Survived')['Pclass'].plot.hist(histtype= 'bar', alpha = 0.8)\n",
        "plt.legend(('Died','Survived'), fontsize = 12)\n",
        "plt.xlabel('Pclass', fontsize = 18)\n",
        "plt.show()\n",
        "\n"
      ],
      "metadata": {
        "id": "3EsR1llp2ugZ"
      },
      "execution_count": null,
      "outputs": []
    },
    {
      "cell_type": "code",
      "source": [
        "\n",
        "# 建立 train_X\n",
        "train_X = pd.DataFrame([df_train[\"Pclass\"],df_train[\"Age\"]]).T\n",
        "df_test_2=df_test_1[[\"Pclass\",\"Age\",'Survived']]\n",
        "df_test_3=df_test_1[[\"Pclass\",\"Age\"]]\n",
        "\n",
        "# 建立模型\n",
        "print(len(train_X)) #891\n",
        "print(len(df_train[\"Survived\"])) #891\n",
        "\n",
        "logistic_regr = linear_model.LogisticRegression()\n",
        "logistic_regr.fit(train_X, df_train[\"Survived\"])\n",
        "\n",
        "\n",
        "print(train_X.columns.tolist())\n",
        "print(df_test_3.columns.tolist())\n",
        "print(train_X.shape)\n",
        "print(df_test_3.shape)"
      ],
      "metadata": {
        "colab": {
          "base_uri": "https://localhost:8080/"
        },
        "id": "504MxiJhX2Yg",
        "outputId": "d71ba567-95e4-4bc8-c207-73f4b3c961f8"
      },
      "execution_count": 83,
      "outputs": [
        {
          "output_type": "stream",
          "name": "stdout",
          "text": [
            "891\n",
            "891\n",
            "['Pclass', 'Age']\n",
            "['Pclass', 'Age']\n",
            "(891, 2)\n",
            "(418, 2)\n"
          ]
        }
      ]
    },
    {
      "cell_type": "code",
      "source": [
        "df_test_4 = df_test_3.dropna()\n",
        "to_be_predicted = df_test_4\n",
        "df_test_5=df_test_2.dropna()\n",
        "print(len(df_test_5))  #322\n",
        "\n",
        "df_test_6=df_test_5[[\"Pclass\",\"Age\"]]\n",
        "df_test_6\n",
        "\n",
        "to_be_predicted=df_test_6\n",
        "predicted_sales = logistic_regr.predict(to_be_predicted)\n",
        "print(predicted_sales[0])\n",
        "print(df_test_5.head())\n"
      ],
      "metadata": {
        "colab": {
          "base_uri": "https://localhost:8080/"
        },
        "id": "XAGckztHX6C0",
        "outputId": "4803cd26-64ad-42d0-9c7d-befb828a4a6d"
      },
      "execution_count": 109,
      "outputs": [
        {
          "output_type": "stream",
          "name": "stdout",
          "text": [
            "332\n",
            "0\n",
            "   Pclass   Age  Survived\n",
            "0       3  34.5         0\n",
            "1       3  47.0         1\n",
            "2       2  62.0         0\n",
            "3       3  27.0         0\n",
            "4       3  22.0         1\n"
          ]
        }
      ]
    },
    {
      "cell_type": "code",
      "source": [
        ""
      ],
      "metadata": {
        "id": "nKzUR0ePcbio"
      },
      "execution_count": null,
      "outputs": []
    }
  ]
}